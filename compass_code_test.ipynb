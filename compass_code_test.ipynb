{
 "cells": [
  {
   "cell_type": "code",
   "execution_count": 1,
   "metadata": {},
   "outputs": [],
   "source": [
    "import numpy as np\n",
    "from pymatching import Matching\n",
    "import matplotlib.pyplot as plt\n",
    "from scipy import sparse, linalg\n",
    "import CompassCodes as cc\n",
    "import csv\n",
    "import pandas as pd\n",
    "import os\n",
    "from datetime import datetime\n",
    "import sys\n",
    "import glob"
   ]
  },
  {
   "cell_type": "code",
   "execution_count": 2,
   "metadata": {},
   "outputs": [],
   "source": [
    "err_type = {0:\"X\", 1:\"Z\", 2:\"CORR_XZ\", 3:\"TOTAL\"}\n",
    "d = 3\n",
    "l = 2"
   ]
  },
  {
   "cell_type": "code",
   "execution_count": 5,
   "metadata": {},
   "outputs": [],
   "source": [
    "def depolarizing_err(p, H, eta=0.5):\n",
    "    \"\"\"Generates the error vector for one shot according to depolarizing noise model.\n",
    "       Args:\n",
    "       - p: Error probability.\n",
    "       - num_qubits: Number of qubits.\n",
    "       - eta: depolarizing channel bias. Recover unbiased depolarizing noise eta = 0.5. \n",
    "                Px, py, pz are determined according to 2D Compass Codes paper (2019) defn of eta\n",
    "       \n",
    "       Returns:\n",
    "       - A list containing error vectors for no error, X, Z, and Y errors.\n",
    "    \"\"\"\n",
    "    num_qubits = H.shape[1]\n",
    "    # Error vectors for I, X, Z, and Y errors\n",
    "    errors = np.zeros((2, num_qubits), dtype=int)\n",
    "\n",
    "    # p = px + py + pz, px=py, eta = pz/(px + py)\n",
    "    px = 0.5*p/(1+eta)\n",
    "    pz = p*(eta/(1+eta))\n",
    "    probs = [1 - p, px, pz, px]  # Probabilities for I, X, Z, and Y errors\n",
    "\n",
    "    # Randomly choose error types for all qubits\n",
    "    # np.random.seed(10)\n",
    "    choices = np.random.choice(4, size=num_qubits, p=probs)\n",
    "    # Assign errors based on the chosen types\n",
    "    errors[0] = np.where((choices == 1) | (choices == 3), 1, 0)  # X or Y error\n",
    "    errors[1] = np.where((choices == 2) | (choices == 3), 1, 0)  # Z or Y error\n",
    "    return errors"
   ]
  },
  {
   "cell_type": "code",
   "execution_count": 8,
   "metadata": {},
   "outputs": [],
   "source": [
    "compass_code = cc.CompassCode(d=d, l=l)\n",
    "H_x, H_z = compass_code.H['X'], compass_code.H['Z']\n",
    "log_x, log_z = compass_code.logicals['X'], compass_code.logicals['Z']\n",
    "eta = 0.5\n",
    "shots = 100\n",
    "p = 0.1"
   ]
  },
  {
   "cell_type": "code",
   "execution_count": 28,
   "metadata": {},
   "outputs": [
    {
     "name": "stdout",
     "output_type": "stream",
     "text": [
      "4\n",
      "5\n",
      "8\n"
     ]
    }
   ],
   "source": [
    "M_z = Matching.from_check_matrix(H_z)\n",
    "M_x = Matching.from_check_matrix(H_x)\n",
    "    \n",
    "    # Generate error vectors\n",
    "err_vec = [depolarizing_err(p, H_x, eta=eta) for _ in range(shots)]\n",
    "err_vec_x = np.array([err[0] for err in err_vec])\n",
    "err_vec_z = np.array([err[1] for err in err_vec])\n",
    "\n",
    "# Syndrome for Z errors and decoding\n",
    "syndrome_z = err_vec_x @ H_z.T % 2\n",
    "correction_x = M_z.decode_batch(syndrome_z)\n",
    "num_errors_x = np.sum((correction_x + err_vec_x) @ log_z % 2)\n",
    "\n",
    "# Syndrome for X errors and decoding\n",
    "syndrome_x = err_vec_z @ H_x.T % 2\n",
    "correction_z = M_x.decode_batch(syndrome_x)\n",
    "num_errors_z = np.sum((correction_z + err_vec_z) @ log_x % 2)\n",
    "\n",
    "print(sum((correction_x + err_vec_x) @ log_z % 2))\n",
    "print(sum((correction_z + err_vec_z) @ log_x % 2))\n",
    "\n",
    "print(sum(((correction_x + err_vec_x) @ log_z % 2)|((correction_z + err_vec_z) @ log_x % 2)))"
   ]
  }
 ],
 "metadata": {
  "kernelspec": {
   "display_name": "base",
   "language": "python",
   "name": "python3"
  },
  "language_info": {
   "codemirror_mode": {
    "name": "ipython",
    "version": 3
   },
   "file_extension": ".py",
   "mimetype": "text/x-python",
   "name": "python",
   "nbconvert_exporter": "python",
   "pygments_lexer": "ipython3",
   "version": "3.8.19"
  }
 },
 "nbformat": 4,
 "nbformat_minor": 2
}
