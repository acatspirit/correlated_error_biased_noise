{
 "cells": [
  {
   "cell_type": "code",
   "execution_count": 5,
   "id": "8ef9e181-9374-4de1-9bef-9c2f2b6f74c6",
   "metadata": {},
   "outputs": [],
   "source": [
    "import numpy as np\n",
    "from pymatching import Matching\n",
    "import matplotlib.pyplot as plt\n",
    "from scipy import sparse, linalg\n",
    "import CompassCodes as cc\n",
    "import stim \n",
    "import pandas as pd\n",
    "from compass_code_correlated_error import depolarizing_err\n"
   ]
  },
  {
   "cell_type": "code",
   "execution_count": 68,
   "id": "7993d851-cc25-4445-afd8-c54496d9faf4",
   "metadata": {},
   "outputs": [],
   "source": [
    "surface_code_circuit = stim.Circuit.generated(\n",
    "    \"surface_code:rotated_memory_z\",\n",
    "    rounds=1,\n",
    "    distance=3,\n",
    "    # after_clifford_depolarization=0.001,\n",
    "    # after_reset_flip_probability=0.001,\n",
    "    before_measure_flip_probability=0.001)\n",
    "    # before_round_data_depolarization=0.001)"
   ]
  },
  {
   "cell_type": "code",
   "execution_count": 69,
   "id": "76f4621c-3994-478e-a263-55f296888971",
   "metadata": {
    "scrolled": true
   },
   "outputs": [
    {
     "name": "stdout",
     "output_type": "stream",
     "text": [
      "stim.Circuit('''\n",
      "    QUBIT_COORDS(1, 1) 1\n",
      "    QUBIT_COORDS(2, 0) 2\n",
      "    QUBIT_COORDS(3, 1) 3\n",
      "    QUBIT_COORDS(5, 1) 5\n",
      "    QUBIT_COORDS(1, 3) 8\n",
      "    QUBIT_COORDS(2, 2) 9\n",
      "    QUBIT_COORDS(3, 3) 10\n",
      "    QUBIT_COORDS(4, 2) 11\n",
      "    QUBIT_COORDS(5, 3) 12\n",
      "    QUBIT_COORDS(6, 2) 13\n",
      "    QUBIT_COORDS(0, 4) 14\n",
      "    QUBIT_COORDS(1, 5) 15\n",
      "    QUBIT_COORDS(2, 4) 16\n",
      "    QUBIT_COORDS(3, 5) 17\n",
      "    QUBIT_COORDS(4, 4) 18\n",
      "    QUBIT_COORDS(5, 5) 19\n",
      "    QUBIT_COORDS(4, 6) 25\n",
      "    R 1 3 5 8 10 12 15 17 19 2 9 11 13 14 16 18 25\n",
      "    TICK\n",
      "    H 2 11 16 25\n",
      "    TICK\n",
      "    CX 2 3 16 17 11 12 15 14 10 9 19 18\n",
      "    TICK\n",
      "    CX 2 1 16 15 11 10 8 14 3 9 12 18\n",
      "    TICK\n",
      "    CX 16 10 11 5 25 19 8 9 17 18 12 13\n",
      "    TICK\n",
      "    CX 16 8 11 3 25 17 1 9 10 18 5 13\n",
      "    TICK\n",
      "    H 2 11 16 25\n",
      "    TICK\n",
      "    X_ERROR(0.001) 2 9 11 13 14 16 18 25\n",
      "    MR 2 9 11 13 14 16 18 25\n",
      "    DETECTOR(0, 4, 0) rec[-4]\n",
      "    DETECTOR(2, 2, 0) rec[-7]\n",
      "    DETECTOR(4, 4, 0) rec[-2]\n",
      "    DETECTOR(6, 2, 0) rec[-5]\n",
      "    X_ERROR(0.001) 1 3 5 8 10 12 15 17 19\n",
      "    M 1 3 5 8 10 12 15 17 19\n",
      "    DETECTOR(0, 4, 1) rec[-3] rec[-6] rec[-13]\n",
      "    DETECTOR(2, 2, 1) rec[-5] rec[-6] rec[-8] rec[-9] rec[-16]\n",
      "    DETECTOR(4, 4, 1) rec[-1] rec[-2] rec[-4] rec[-5] rec[-11]\n",
      "    DETECTOR(6, 2, 1) rec[-4] rec[-7] rec[-14]\n",
      "    OBSERVABLE_INCLUDE(0) rec[-7] rec[-8] rec[-9]\n",
      "''')\n"
     ]
    }
   ],
   "source": [
    "print(repr(surface_code_circuit))"
   ]
  },
  {
   "cell_type": "code",
   "execution_count": 12,
   "id": "c781d595-0664-4536-b1f2-fe7915849458",
   "metadata": {},
   "outputs": [],
   "source": [
    "sc_no_err = stim.Circuit('''\n",
    "    QUBIT_COORDS(1, 1) 1\n",
    "    QUBIT_COORDS(2, 0) 2\n",
    "    QUBIT_COORDS(3, 1) 3\n",
    "    QUBIT_COORDS(5, 1) 5\n",
    "    QUBIT_COORDS(1, 3) 8\n",
    "    QUBIT_COORDS(2, 2) 9\n",
    "    QUBIT_COORDS(3, 3) 10\n",
    "    QUBIT_COORDS(4, 2) 11\n",
    "    QUBIT_COORDS(5, 3) 12\n",
    "    QUBIT_COORDS(6, 2) 13\n",
    "    QUBIT_COORDS(0, 4) 14\n",
    "    QUBIT_COORDS(1, 5) 15\n",
    "    QUBIT_COORDS(2, 4) 16\n",
    "    QUBIT_COORDS(3, 5) 17\n",
    "    QUBIT_COORDS(4, 4) 18\n",
    "    QUBIT_COORDS(5, 5) 19\n",
    "    QUBIT_COORDS(4, 6) 25\n",
    "    R 1 3 5 8 10 12 15 17 19 2 9 11 13 14 16 18 25\n",
    "    TICK\n",
    "    H 2 11 16 25\n",
    "    TICK\n",
    "    CX 2 3 16 17 11 12 15 14 10 9 19 18\n",
    "    TICK\n",
    "    CX 2 1 16 15 11 10 8 14 3 9 12 18\n",
    "    TICK\n",
    "    CX 16 10 11 5 25 19 8 9 17 18 12 13\n",
    "    TICK\n",
    "    CX 16 8 11 3 25 17 1 9 10 18 5 13\n",
    "    TICK\n",
    "    H 2 11 16 25\n",
    "    TICK\n",
    "    MR 2 9 11 13 14 16 18 25\n",
    "    DETECTOR(0, 4, 0) rec[-4]\n",
    "    DETECTOR(2, 2, 0) rec[-7]\n",
    "    DETECTOR(4, 4, 0) rec[-2]\n",
    "    DETECTOR(6, 2, 0) rec[-5]\n",
    "    M 1 3 5 8 10 12 15 17 19\n",
    "    DETECTOR(0, 4, 1) rec[-3] rec[-6] rec[-13]\n",
    "    DETECTOR(2, 2, 1) rec[-5] rec[-6] rec[-8] rec[-9] rec[-16]\n",
    "    DETECTOR(4, 4, 1) rec[-1] rec[-2] rec[-4] rec[-5] rec[-11]\n",
    "    DETECTOR(6, 2, 1) rec[-4] rec[-7] rec[-14]\n",
    "    OBSERVABLE_INCLUDE(0) rec[-7] rec[-8] rec[-9]\n",
    "''')"
   ]
  },
  {
   "cell_type": "code",
   "execution_count": 78,
   "id": "c045015a-b186-4606-a6d6-eb9b1a3909d6",
   "metadata": {},
   "outputs": [],
   "source": [
    "sc_err = stim.Circuit('''\n",
    "    QUBIT_COORDS(1, 1) 1\n",
    "    QUBIT_COORDS(2, 0) 2\n",
    "    QUBIT_COORDS(3, 1) 3\n",
    "    QUBIT_COORDS(5, 1) 5\n",
    "    QUBIT_COORDS(1, 3) 8\n",
    "    QUBIT_COORDS(2, 2) 9\n",
    "    QUBIT_COORDS(3, 3) 10\n",
    "    QUBIT_COORDS(4, 2) 11\n",
    "    QUBIT_COORDS(5, 3) 12\n",
    "    QUBIT_COORDS(6, 2) 13\n",
    "    QUBIT_COORDS(0, 4) 14\n",
    "    QUBIT_COORDS(1, 5) 15\n",
    "    QUBIT_COORDS(2, 4) 16\n",
    "    QUBIT_COORDS(3, 5) 17\n",
    "    QUBIT_COORDS(4, 4) 18\n",
    "    QUBIT_COORDS(5, 5) 19\n",
    "    QUBIT_COORDS(4, 6) 25\n",
    "    R 1 3 5 8 10 12 15 17 19 2 9 11 13 14 16 18 25\n",
    "    TICK\n",
    "    H 2 11 16 25\n",
    "    TICK\n",
    "    CX 2 3 16 17 11 12 15 14 10 9 19 18\n",
    "    TICK\n",
    "    CX 2 1 16 15 11 10 8 14 3 9 12 18\n",
    "    TICK\n",
    "    CX 16 10 11 5 25 19 8 9 17 18 12 13\n",
    "    TICK\n",
    "    CX 16 8 11 3 25 17 1 9 10 18 5 13\n",
    "    TICK\n",
    "    H 2 11 16 25\n",
    "    TICK\n",
    "    X_ERROR(0.001) 2 9 11 13 14 16 18 25\n",
    "    MR 2 9 11 13 14 16 18 25\n",
    "    DETECTOR rec[-4]\n",
    "    DETECTOR rec[-7]\n",
    "    DETECTOR rec[-2]\n",
    "    DETECTOR rec[-5]\n",
    "    X_ERROR(0.001) 1 3 5 8 10 12 15 17 19\n",
    "    M 1 3 5 8 10 12 15 17 19\n",
    "    DETECTOR rec[-3] rec[-6] rec[-13]\n",
    "    DETECTOR rec[-5] rec[-6] rec[-8] rec[-9] rec[-16]\n",
    "    DETECTOR rec[-1] rec[-2] rec[-4] rec[-5] rec[-11]\n",
    "    DETECTOR rec[-4] rec[-7] rec[-14]\n",
    "    OBSERVABLE_INCLUDE(0) rec[-7] rec[-8] rec[-9]\n",
    "''')"
   ]
  },
  {
   "cell_type": "code",
   "execution_count": 79,
   "id": "5712af47-e894-4d06-b65d-5e20193e6dc4",
   "metadata": {},
   "outputs": [
    {
     "name": "stdout",
     "output_type": "stream",
     "text": [
      "<pymatching.Matching object with 8 detectors, 0 boundary nodes, and 11 edges>\n"
     ]
    },
    {
     "data": {
      "image/png": "[encoded data removed]",
      "text/plain": [
       "<Figure size 432x288 with 1 Axes>"
      ]
     },
     "metadata": {},
     "output_type": "display_data"
    }
   ],
   "source": [
    "matching_from_c = Matching.from_stim_circuit(sc_err)\n",
    "matching_from_c.draw()\n",
    "print(matching_from_c)"
   ]
  },
  {
   "cell_type": "code",
   "execution_count": 88,
   "id": "2d57c1bc-9e3d-4d7b-9490-52ef0c427b4d",
   "metadata": {},
   "outputs": [],
   "source": [
    "def make_circuit_from_parity_mat(H_x, H_z):\n",
    "    \"\"\" Given a parity check matrix pair, generates a STIM circuit and detectors to implement the outlined code.\n",
    "        Inputs:\n",
    "            H - (scipy sparse mat) the parity check matrix\n",
    "            Type - str - type == \"X\" is the X parity check matrix and produces those stabilizers\n",
    "                         type == \"Z\" ' ' \n",
    "        Returns: (Stim circuit object) the circuit corresponding to the checks of the specified code\n",
    "\n",
    "        Note - the X and Z circuits can be seperated in code-capacity model. Circuit level model will\n",
    "                require integrating the circuits to avoid hook errors. See fig 3. of this paper: \n",
    "                https://arxiv.org/pdf/1404.3747\n",
    "        TODO: change this function for non-CSS codes - how do I do this generally\n",
    "    \"\"\"\n",
    "    # initialize circuit\n",
    "    circuit = stim.Circuit()\n",
    "\n",
    "    curr_ancilla = 0\n",
    "    num_ancillas = H_x.shape[0] \n",
    "\n",
    "\n",
    "\n",
    "    #create the X parity checks\n",
    "    rows, cols, values = sparse.find(H_x)\n",
    "    data_qubits = []\n",
    "    for row in range(H_x.shape[0]):\n",
    "        \n",
    "        # Get the slice of the data corresponding to the current row\n",
    "        row_start = H_x.indptr[row]\n",
    "        row_end = H_x.indptr[row + 1]\n",
    "\n",
    "        # Extract the column indices and data values for this row\n",
    "        curr_cols = cols[row_start:row_end] \n",
    "        # get the order of the qubits for the surface code\n",
    "        mid_qubit = len(curr_cols)//2\n",
    "        first_half = curr_cols[0:mid_qubit]\n",
    "        second_half = curr_cols[mid_qubit:]\n",
    "        if len(curr_cols) == 4:\n",
    "            sorted_qubits = np.append(np.sort(first_half)[::-1], np.sort(second_half)[::-1])\n",
    "        else:\n",
    "            sorted_qubits = np.append(np.sort(second_half)[::-1], np.sort(first_half)[::-1])\n",
    "\n",
    "        \n",
    "        \n",
    "        # initialize the circuit\n",
    "        circuit.append(\"R\", curr_ancilla)\n",
    "        circuit.append(\"RX\", [q + num_ancillas for q in sorted_qubits])\n",
    "\n",
    "\n",
    "        circuit.append(\"H\", curr_ancilla)\n",
    "\n",
    "        for qubit in sorted_qubits:\n",
    "            circuit.append(\"CX\", [curr_ancilla, qubit + num_ancillas])\n",
    "        circuit.append(\"H\", curr_ancilla)\n",
    "        circuit.append(\"X_ERROR\", curr_ancilla, 0.001)\n",
    "        circuit.append(\"MR\", curr_ancilla)\n",
    "        circuit.append(\"DETECTOR\", stim.target_rec(-1))\n",
    "        circuit.append(\"X_ERROR\", [q + num_ancillas for q in sorted_qubits], 0.001)\n",
    "        circuit.append(\"MX\", [q + num_ancillas for q in sorted_qubits])\n",
    "        circuit.append(\"DETECTOR\", [stim.target_rec(-i - 1) for i in range(len(curr_cols))] + [stim.target_rec(-len(curr_cols) - 1)])\n",
    "    return circuit"
   ]
  },
  {
   "cell_type": "code",
   "execution_count": 89,
   "id": "6bbac9f2-255e-47ae-82ad-5a25be7def4a",
   "metadata": {},
   "outputs": [
    {
     "name": "stdout",
     "output_type": "stream",
     "text": [
      "stim.Circuit('''\n",
      "    R 0\n",
      "    RX 5 4 6 5\n",
      "    H 0\n",
      "    CX 0 5 0 4 0 6 0 5\n",
      "    H 0\n",
      "    X_ERROR(0.001) 0\n",
      "    MR 0\n",
      "    DETECTOR rec[-1]\n",
      "    X_ERROR(0.001) 5 4 6 5\n",
      "    MX 5 4 6 5\n",
      "    DETECTOR rec[-1] rec[-2] rec[-3] rec[-4] rec[-5]\n",
      "    R 0\n",
      "    RX 8 7\n",
      "    H 0\n",
      "    CX 0 8 0 7\n",
      "    H 0\n",
      "    X_ERROR(0.001) 0\n",
      "    MR 0\n",
      "    DETECTOR rec[-1]\n",
      "    X_ERROR(0.001) 8 7\n",
      "    MX 8 7\n",
      "    DETECTOR rec[-1] rec[-2] rec[-3]\n",
      "    R 0\n",
      "    RX 9 8\n",
      "    H 0\n",
      "    CX 0 9 0 8\n",
      "    H 0\n",
      "    X_ERROR(0.001) 0\n",
      "    MR 0\n",
      "    DETECTOR rec[-1]\n",
      "    X_ERROR(0.001) 9 8\n",
      "    MX 9 8\n",
      "    DETECTOR rec[-1] rec[-2] rec[-3]\n",
      "    R 0\n",
      "    RX 11 10 12 11\n",
      "    H 0\n",
      "    CX 0 11 0 10 0 12 0 11\n",
      "    H 0\n",
      "    X_ERROR(0.001) 0\n",
      "    MR 0\n",
      "    DETECTOR rec[-1]\n",
      "    X_ERROR(0.001) 11 10 12 11\n",
      "    MX 11 10 12 11\n",
      "    DETECTOR rec[-1] rec[-2] rec[-3] rec[-4] rec[-5]\n",
      "''')\n"
     ]
    }
   ],
   "source": [
    "d = 3\n",
    "l = 2\n",
    "\n",
    "compass_code = cc.CompassCode(d=d, l=l)\n",
    "H_x, H_z = compass_code.H['X'], compass_code.H['Z']\n",
    "log_x, log_z = compass_code.logicals['X'], compass_code.logicals['Z']\n",
    "\n",
    "my_c = make_circuit_from_parity_mat(H_x, H_z)\n",
    "print(repr(my_c))"
   ]
  },
  {
   "cell_type": "code",
   "execution_count": 90,
   "id": "ef413e96-ed9d-4956-8452-3bcef3c906be",
   "metadata": {},
   "outputs": [
    {
     "name": "stdout",
     "output_type": "stream",
     "text": [
      "<pymatching.Matching object with 8 detectors, 0 boundary nodes, and 4 edges>\n"
     ]
    },
    {
     "data": {
      "image/png": "[encoded data removed]",
      "text/plain": [
       "<Figure size 432x288 with 1 Axes>"
      ]
     },
     "metadata": {},
     "output_type": "display_data"
    }
   ],
   "source": [
    "matching_my_c = Matching.from_stim_circuit(my_c)\n",
    "matching_my_c.draw()\n",
    "print(matching_my_c)\n",
    "\n",
    "matching_from_p = Matching.from_check_matrix(H_x)"
   ]
  },
  {
   "cell_type": "code",
   "execution_count": 84,
   "id": "35fae432-3afb-4c3f-8ea9-1a38d4540995",
   "metadata": {},
   "outputs": [
    {
     "ename": "ValueError",
     "evalue": "x and y must have same first dimension, but have shapes (40,) and (0,)",
     "output_type": "error",
     "traceback": [
      "\u001b[0;31m---------------------------------------------------------------------------\u001b[0m",
      "\u001b[0;31mValueError\u001b[0m                                Traceback (most recent call last)",
      "\u001b[0;32m<ipython-input-84-998febcf7042>\u001b[0m in \u001b[0;36m<module>\u001b[0;34m\u001b[0m\n\u001b[1;32m     23\u001b[0m     \u001b[0mnum_errors_c\u001b[0m \u001b[0;34m+=\u001b[0m \u001b[0mnp\u001b[0m\u001b[0;34m.\u001b[0m\u001b[0msum\u001b[0m\u001b[0;34m(\u001b[0m\u001b[0mnp\u001b[0m\u001b[0;34m.\u001b[0m\u001b[0many\u001b[0m\u001b[0;34m(\u001b[0m\u001b[0mcorrection_c\u001b[0m \u001b[0;34m!=\u001b[0m \u001b[0mactual_observables\u001b[0m\u001b[0;34m,\u001b[0m \u001b[0maxis\u001b[0m\u001b[0;34m=\u001b[0m\u001b[0;36m1\u001b[0m\u001b[0;34m)\u001b[0m\u001b[0;34m)\u001b[0m\u001b[0;34m\u001b[0m\u001b[0;34m\u001b[0m\u001b[0m\n\u001b[1;32m     24\u001b[0m \u001b[0;31m# plt.plot(p_list,num_errors_p, label=\"parity H\" )\u001b[0m\u001b[0;34m\u001b[0m\u001b[0;34m\u001b[0m\u001b[0;34m\u001b[0m\u001b[0m\n\u001b[0;32m---> 25\u001b[0;31m \u001b[0mplt\u001b[0m\u001b[0;34m.\u001b[0m\u001b[0mplot\u001b[0m\u001b[0;34m(\u001b[0m\u001b[0mp_list\u001b[0m\u001b[0;34m,\u001b[0m \u001b[0mnum_errors_c\u001b[0m\u001b[0;34m,\u001b[0m \u001b[0mlabel\u001b[0m\u001b[0;34m=\u001b[0m\u001b[0;34m\"circuit\"\u001b[0m\u001b[0;34m)\u001b[0m\u001b[0;34m\u001b[0m\u001b[0;34m\u001b[0m\u001b[0m\n\u001b[0m\u001b[1;32m     26\u001b[0m \u001b[0;34m\u001b[0m\u001b[0m\n\u001b[1;32m     27\u001b[0m \u001b[0mplt\u001b[0m\u001b[0;34m.\u001b[0m\u001b[0mshow\u001b[0m\u001b[0;34m(\u001b[0m\u001b[0;34m)\u001b[0m\u001b[0;34m\u001b[0m\u001b[0;34m\u001b[0m\u001b[0m\n",
      "\u001b[0;32m/opt/anaconda3/lib/python3.8/site-packages/matplotlib/pyplot.py\u001b[0m in \u001b[0;36mplot\u001b[0;34m(scalex, scaley, data, *args, **kwargs)\u001b[0m\n\u001b[1;32m   2810\u001b[0m \u001b[0;34m@\u001b[0m\u001b[0m_copy_docstring_and_deprecators\u001b[0m\u001b[0;34m(\u001b[0m\u001b[0mAxes\u001b[0m\u001b[0;34m.\u001b[0m\u001b[0mplot\u001b[0m\u001b[0;34m)\u001b[0m\u001b[0;34m\u001b[0m\u001b[0;34m\u001b[0m\u001b[0m\n\u001b[1;32m   2811\u001b[0m \u001b[0;32mdef\u001b[0m \u001b[0mplot\u001b[0m\u001b[0;34m(\u001b[0m\u001b[0;34m*\u001b[0m\u001b[0margs\u001b[0m\u001b[0;34m,\u001b[0m \u001b[0mscalex\u001b[0m\u001b[0;34m=\u001b[0m\u001b[0;32mTrue\u001b[0m\u001b[0;34m,\u001b[0m \u001b[0mscaley\u001b[0m\u001b[0;34m=\u001b[0m\u001b[0;32mTrue\u001b[0m\u001b[0;34m,\u001b[0m \u001b[0mdata\u001b[0m\u001b[0;34m=\u001b[0m\u001b[0;32mNone\u001b[0m\u001b[0;34m,\u001b[0m \u001b[0;34m**\u001b[0m\u001b[0mkwargs\u001b[0m\u001b[0;34m)\u001b[0m\u001b[0;34m:\u001b[0m\u001b[0;34m\u001b[0m\u001b[0;34m\u001b[0m\u001b[0m\n\u001b[0;32m-> 2812\u001b[0;31m     return gca().plot(\n\u001b[0m\u001b[1;32m   2813\u001b[0m         \u001b[0;34m*\u001b[0m\u001b[0margs\u001b[0m\u001b[0;34m,\u001b[0m \u001b[0mscalex\u001b[0m\u001b[0;34m=\u001b[0m\u001b[0mscalex\u001b[0m\u001b[0;34m,\u001b[0m \u001b[0mscaley\u001b[0m\u001b[0;34m=\u001b[0m\u001b[0mscaley\u001b[0m\u001b[0;34m,\u001b[0m\u001b[0;34m\u001b[0m\u001b[0;34m\u001b[0m\u001b[0m\n\u001b[1;32m   2814\u001b[0m         **({\"data\": data} if data is not None else {}), **kwargs)\n",
      "\u001b[0;32m/opt/anaconda3/lib/python3.8/site-packages/matplotlib/axes/_axes.py\u001b[0m in \u001b[0;36mplot\u001b[0;34m(self, scalex, scaley, data, *args, **kwargs)\u001b[0m\n\u001b[1;32m   1686\u001b[0m         \"\"\"\n\u001b[1;32m   1687\u001b[0m         \u001b[0mkwargs\u001b[0m \u001b[0;34m=\u001b[0m \u001b[0mcbook\u001b[0m\u001b[0;34m.\u001b[0m\u001b[0mnormalize_kwargs\u001b[0m\u001b[0;34m(\u001b[0m\u001b[0mkwargs\u001b[0m\u001b[0;34m,\u001b[0m \u001b[0mmlines\u001b[0m\u001b[0;34m.\u001b[0m\u001b[0mLine2D\u001b[0m\u001b[0;34m)\u001b[0m\u001b[0;34m\u001b[0m\u001b[0;34m\u001b[0m\u001b[0m\n\u001b[0;32m-> 1688\u001b[0;31m         \u001b[0mlines\u001b[0m \u001b[0;34m=\u001b[0m \u001b[0;34m[\u001b[0m\u001b[0;34m*\u001b[0m\u001b[0mself\u001b[0m\u001b[0;34m.\u001b[0m\u001b[0m_get_lines\u001b[0m\u001b[0;34m(\u001b[0m\u001b[0;34m*\u001b[0m\u001b[0margs\u001b[0m\u001b[0;34m,\u001b[0m \u001b[0mdata\u001b[0m\u001b[0;34m=\u001b[0m\u001b[0mdata\u001b[0m\u001b[0;34m,\u001b[0m \u001b[0;34m**\u001b[0m\u001b[0mkwargs\u001b[0m\u001b[0;34m)\u001b[0m\u001b[0;34m]\u001b[0m\u001b[0;34m\u001b[0m\u001b[0;34m\u001b[0m\u001b[0m\n\u001b[0m\u001b[1;32m   1689\u001b[0m         \u001b[0;32mfor\u001b[0m \u001b[0mline\u001b[0m \u001b[0;32min\u001b[0m \u001b[0mlines\u001b[0m\u001b[0;34m:\u001b[0m\u001b[0;34m\u001b[0m\u001b[0;34m\u001b[0m\u001b[0m\n\u001b[1;32m   1690\u001b[0m             \u001b[0mself\u001b[0m\u001b[0;34m.\u001b[0m\u001b[0madd_line\u001b[0m\u001b[0;34m(\u001b[0m\u001b[0mline\u001b[0m\u001b[0;34m)\u001b[0m\u001b[0;34m\u001b[0m\u001b[0;34m\u001b[0m\u001b[0m\n",
      "\u001b[0;32m/opt/anaconda3/lib/python3.8/site-packages/matplotlib/axes/_base.py\u001b[0m in \u001b[0;36m__call__\u001b[0;34m(self, data, *args, **kwargs)\u001b[0m\n\u001b[1;32m    309\u001b[0m                 \u001b[0mthis\u001b[0m \u001b[0;34m+=\u001b[0m \u001b[0margs\u001b[0m\u001b[0;34m[\u001b[0m\u001b[0;36m0\u001b[0m\u001b[0;34m]\u001b[0m\u001b[0;34m,\u001b[0m\u001b[0;34m\u001b[0m\u001b[0;34m\u001b[0m\u001b[0m\n\u001b[1;32m    310\u001b[0m                 \u001b[0margs\u001b[0m \u001b[0;34m=\u001b[0m \u001b[0margs\u001b[0m\u001b[0;34m[\u001b[0m\u001b[0;36m1\u001b[0m\u001b[0;34m:\u001b[0m\u001b[0;34m]\u001b[0m\u001b[0;34m\u001b[0m\u001b[0;34m\u001b[0m\u001b[0m\n\u001b[0;32m--> 311\u001b[0;31m             yield from self._plot_args(\n\u001b[0m\u001b[1;32m    312\u001b[0m                 this, kwargs, ambiguous_fmt_datakey=ambiguous_fmt_datakey)\n\u001b[1;32m    313\u001b[0m \u001b[0;34m\u001b[0m\u001b[0m\n",
      "\u001b[0;32m/opt/anaconda3/lib/python3.8/site-packages/matplotlib/axes/_base.py\u001b[0m in \u001b[0;36m_plot_args\u001b[0;34m(self, tup, kwargs, return_kwargs, ambiguous_fmt_datakey)\u001b[0m\n\u001b[1;32m    502\u001b[0m \u001b[0;34m\u001b[0m\u001b[0m\n\u001b[1;32m    503\u001b[0m         \u001b[0;32mif\u001b[0m \u001b[0mx\u001b[0m\u001b[0;34m.\u001b[0m\u001b[0mshape\u001b[0m\u001b[0;34m[\u001b[0m\u001b[0;36m0\u001b[0m\u001b[0;34m]\u001b[0m \u001b[0;34m!=\u001b[0m \u001b[0my\u001b[0m\u001b[0;34m.\u001b[0m\u001b[0mshape\u001b[0m\u001b[0;34m[\u001b[0m\u001b[0;36m0\u001b[0m\u001b[0;34m]\u001b[0m\u001b[0;34m:\u001b[0m\u001b[0;34m\u001b[0m\u001b[0;34m\u001b[0m\u001b[0m\n\u001b[0;32m--> 504\u001b[0;31m             raise ValueError(f\"x and y must have same first dimension, but \"\n\u001b[0m\u001b[1;32m    505\u001b[0m                              f\"have shapes {x.shape} and {y.shape}\")\n\u001b[1;32m    506\u001b[0m         \u001b[0;32mif\u001b[0m \u001b[0mx\u001b[0m\u001b[0;34m.\u001b[0m\u001b[0mndim\u001b[0m \u001b[0;34m>\u001b[0m \u001b[0;36m2\u001b[0m \u001b[0;32mor\u001b[0m \u001b[0my\u001b[0m\u001b[0;34m.\u001b[0m\u001b[0mndim\u001b[0m \u001b[0;34m>\u001b[0m \u001b[0;36m2\u001b[0m\u001b[0;34m:\u001b[0m\u001b[0;34m\u001b[0m\u001b[0;34m\u001b[0m\u001b[0m\n",
      "\u001b[0;31mValueError\u001b[0m: x and y must have same first dimension, but have shapes (40,) and (0,)"
     ]
    },
    {
     "data": {
      "image/png": "[encoded data removed]",
      "text/plain": [
       "<Figure size 432x288 with 1 Axes>"
      ]
     },
     "metadata": {
      "needs_background": "light"
     },
     "output_type": "display_data"
    }
   ],
   "source": [
    "num_errors_p = []\n",
    "num_errors_c = []\n",
    "shots = 1000\n",
    "eta = 0.5\n",
    "p_list = np.linspace(0.01, 0.5, 40)\n",
    "\n",
    "for p in p_list:\n",
    "    err_vec = [depolarizing_err(p, H_x, eta=eta) for _ in range(shots)]\n",
    "    err_vec_x = np.array([err[0] for err in err_vec])\n",
    "    err_vec_z = np.array([err[1] for err in err_vec])\n",
    "\n",
    "    # generate the syndrome for each shot\n",
    "    # syndrome_shots = err_vec_z@H_x.T%2\n",
    "    sampler = my_c.compile_detector_sampler()\n",
    "    syndrome, actual_observables = sampler.sample(shots=shots, separate_observables=True)\n",
    "\n",
    "    # the correction to the errors\n",
    "    # correction_p = matching_from_p.decode_batch(syndrome_shots)\n",
    "    correction_c = matching_from_c.decode_batch(syndrome)\n",
    "\n",
    "    # num_errors_p += [np.sum((correction_p+err_vec_z)@log_x%2)]\n",
    "    # num_errors_c += [np.sum((correction_c+err_vec_z)@log_x%2)]\n",
    "    num_errors_c += np.sum(np.any(correction_c != actual_observables, axis=1))\n",
    "# plt.plot(p_list,num_errors_p, label=\"parity H\" )\n",
    "plt.plot(p_list, num_errors_c, label=\"circuit\")\n",
    "\n",
    "plt.show()"
   ]
  },
  {
   "cell_type": "code",
   "execution_count": null,
   "id": "08928175-10fc-4526-83b6-9972965567fc",
   "metadata": {},
   "outputs": [],
   "source": []
  }
 ],
 "metadata": {
  "kernelspec": {
   "display_name": "Python 3",
   "language": "python",
   "name": "python3"
  },
  "language_info": {
   "codemirror_mode": {
    "name": "ipython",
    "version": 3
   },
   "file_extension": ".py",
   "mimetype": "text/x-python",
   "name": "python",
   "nbconvert_exporter": "python",
   "pygments_lexer": "ipython3",
   "version": "3.8.19"
  }
 },
 "nbformat": 4,
 "nbformat_minor": 5
}
