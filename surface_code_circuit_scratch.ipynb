{
 "cells": [
  {
   "cell_type": "code",
   "execution_count": 2,
   "id": "8ef9e181-9374-4de1-9bef-9c2f2b6f74c6",
   "metadata": {},
   "outputs": [],
   "source": [
    "import numpy as np\n",
    "from pymatching import Matching\n",
    "import matplotlib.pyplot as plt\n",
    "from scipy import sparse, linalg\n",
    "import CompassCodes as cc\n",
    "import stim \n",
    "import pandas as pd\n",
    "from compass_code_correlated_error import depolarizing_err\n"
   ]
  },
  {
   "cell_type": "code",
   "execution_count": 26,
   "id": "7993d851-cc25-4445-afd8-c54496d9faf4",
   "metadata": {},
   "outputs": [],
   "source": [
    "surface_code_circuit = stim.Circuit.generated(\n",
    "    \"surface_code:rotated_memory_z\",\n",
    "    rounds=1,\n",
    "    distance=3,\n",
    "    # after_clifford_depolarization=0.001,\n",
    "    # after_reset_flip_probability=0.001,\n",
    "    before_measure_flip_probability=0.05)\n",
    "    # before_round_data_depolarization=0.001)"
   ]
  },
  {
   "cell_type": "code",
   "execution_count": 27,
   "id": "76f4621c-3994-478e-a263-55f296888971",
   "metadata": {
    "scrolled": true
   },
   "outputs": [
    {
     "name": "stdout",
     "output_type": "stream",
     "text": [
      "stim.Circuit('''\n",
      "    QUBIT_COORDS(1, 1) 1\n",
      "    QUBIT_COORDS(2, 0) 2\n",
      "    QUBIT_COORDS(3, 1) 3\n",
      "    QUBIT_COORDS(5, 1) 5\n",
      "    QUBIT_COORDS(1, 3) 8\n",
      "    QUBIT_COORDS(2, 2) 9\n",
      "    QUBIT_COORDS(3, 3) 10\n",
      "    QUBIT_COORDS(4, 2) 11\n",
      "    QUBIT_COORDS(5, 3) 12\n",
      "    QUBIT_COORDS(6, 2) 13\n",
      "    QUBIT_COORDS(0, 4) 14\n",
      "    QUBIT_COORDS(1, 5) 15\n",
      "    QUBIT_COORDS(2, 4) 16\n",
      "    QUBIT_COORDS(3, 5) 17\n",
      "    QUBIT_COORDS(4, 4) 18\n",
      "    QUBIT_COORDS(5, 5) 19\n",
      "    QUBIT_COORDS(4, 6) 25\n",
      "    R 1 3 5 8 10 12 15 17 19 2 9 11 13 14 16 18 25\n",
      "    TICK\n",
      "    H 2 11 16 25\n",
      "    TICK\n",
      "    CX 2 3 16 17 11 12 15 14 10 9 19 18\n",
      "    TICK\n",
      "    CX 2 1 16 15 11 10 8 14 3 9 12 18\n",
      "    TICK\n",
      "    CX 16 10 11 5 25 19 8 9 17 18 12 13\n",
      "    TICK\n",
      "    CX 16 8 11 3 25 17 1 9 10 18 5 13\n",
      "    TICK\n",
      "    H 2 11 16 25\n",
      "    TICK\n",
      "    X_ERROR(0.05) 2 9 11 13 14 16 18 25\n",
      "    MR 2 9 11 13 14 16 18 25\n",
      "    DETECTOR(0, 4, 0) rec[-4]\n",
      "    DETECTOR(2, 2, 0) rec[-7]\n",
      "    DETECTOR(4, 4, 0) rec[-2]\n",
      "    DETECTOR(6, 2, 0) rec[-5]\n",
      "    X_ERROR(0.05) 1 3 5 8 10 12 15 17 19\n",
      "    M 1 3 5 8 10 12 15 17 19\n",
      "    DETECTOR(0, 4, 1) rec[-3] rec[-6] rec[-13]\n",
      "    DETECTOR(2, 2, 1) rec[-5] rec[-6] rec[-8] rec[-9] rec[-16]\n",
      "    DETECTOR(4, 4, 1) rec[-1] rec[-2] rec[-4] rec[-5] rec[-11]\n",
      "    DETECTOR(6, 2, 1) rec[-4] rec[-7] rec[-14]\n",
      "    OBSERVABLE_INCLUDE(0) rec[-7] rec[-8] rec[-9]\n",
      "''')\n"
     ]
    }
   ],
   "source": [
    "print(repr(surface_code_circuit))"
   ]
  },
  {
   "cell_type": "code",
   "execution_count": 5,
   "id": "c781d595-0664-4536-b1f2-fe7915849458",
   "metadata": {},
   "outputs": [],
   "source": [
    "sc_no_err = stim.Circuit('''\n",
    "    QUBIT_COORDS(1, 1) 1\n",
    "    QUBIT_COORDS(2, 0) 2\n",
    "    QUBIT_COORDS(3, 1) 3\n",
    "    QUBIT_COORDS(5, 1) 5\n",
    "    QUBIT_COORDS(1, 3) 8\n",
    "    QUBIT_COORDS(2, 2) 9\n",
    "    QUBIT_COORDS(3, 3) 10\n",
    "    QUBIT_COORDS(4, 2) 11\n",
    "    QUBIT_COORDS(5, 3) 12\n",
    "    QUBIT_COORDS(6, 2) 13\n",
    "    QUBIT_COORDS(0, 4) 14\n",
    "    QUBIT_COORDS(1, 5) 15\n",
    "    QUBIT_COORDS(2, 4) 16\n",
    "    QUBIT_COORDS(3, 5) 17\n",
    "    QUBIT_COORDS(4, 4) 18\n",
    "    QUBIT_COORDS(5, 5) 19\n",
    "    QUBIT_COORDS(4, 6) 25\n",
    "    R 1 3 5 8 10 12 15 17 19 2 9 11 13 14 16 18 25\n",
    "    TICK\n",
    "    H 2 11 16 25\n",
    "    TICK\n",
    "    CX 2 3 16 17 11 12 15 14 10 9 19 18\n",
    "    TICK\n",
    "    CX 2 1 16 15 11 10 8 14 3 9 12 18\n",
    "    TICK\n",
    "    CX 16 10 11 5 25 19 8 9 17 18 12 13\n",
    "    TICK\n",
    "    CX 16 8 11 3 25 17 1 9 10 18 5 13\n",
    "    TICK\n",
    "    H 2 11 16 25\n",
    "    TICK\n",
    "    MR 2 9 11 13 14 16 18 25\n",
    "    DETECTOR(0, 4, 0) rec[-4]\n",
    "    DETECTOR(2, 2, 0) rec[-7]\n",
    "    DETECTOR(4, 4, 0) rec[-2]\n",
    "    DETECTOR(6, 2, 0) rec[-5]\n",
    "    M 1 3 5 8 10 12 15 17 19\n",
    "    DETECTOR(0, 4, 1) rec[-3] rec[-6] rec[-13]\n",
    "    DETECTOR(2, 2, 1) rec[-5] rec[-6] rec[-8] rec[-9] rec[-16]\n",
    "    DETECTOR(4, 4, 1) rec[-1] rec[-2] rec[-4] rec[-5] rec[-11]\n",
    "    DETECTOR(6, 2, 1) rec[-4] rec[-7] rec[-14]\n",
    "    OBSERVABLE_INCLUDE(0) rec[-7] rec[-8] rec[-9]\n",
    "''')"
   ]
  },
  {
   "cell_type": "code",
   "execution_count": 6,
   "id": "c045015a-b186-4606-a6d6-eb9b1a3909d6",
   "metadata": {},
   "outputs": [],
   "source": [
    "sc_err =stim.Circuit('''\n",
    "    QUBIT_COORDS(1, 1) 1\n",
    "    QUBIT_COORDS(2, 0) 2\n",
    "    QUBIT_COORDS(3, 1) 3\n",
    "    QUBIT_COORDS(5, 1) 5\n",
    "    QUBIT_COORDS(1, 3) 8\n",
    "    QUBIT_COORDS(2, 2) 9\n",
    "    QUBIT_COORDS(3, 3) 10\n",
    "    QUBIT_COORDS(4, 2) 11\n",
    "    QUBIT_COORDS(5, 3) 12\n",
    "    QUBIT_COORDS(6, 2) 13\n",
    "    QUBIT_COORDS(0, 4) 14\n",
    "    QUBIT_COORDS(1, 5) 15\n",
    "    QUBIT_COORDS(2, 4) 16\n",
    "    QUBIT_COORDS(3, 5) 17\n",
    "    QUBIT_COORDS(4, 4) 18\n",
    "    QUBIT_COORDS(5, 5) 19\n",
    "    QUBIT_COORDS(4, 6) 25\n",
    "    R 1 3 5 8 10 12 15 17 19 2 9 11 13 14 16 18 25\n",
    "    TICK\n",
    "    H 2 11 16 25\n",
    "    TICK\n",
    "    CX 2 3 16 17 11 12 15 14 10 9 19 18\n",
    "    TICK\n",
    "    CX 2 1 16 15 11 10 8 14 3 9 12 18\n",
    "    TICK\n",
    "    CX 16 10 11 5 25 19 8 9 17 18 12 13\n",
    "    TICK\n",
    "    CX 16 8 11 3 25 17 1 9 10 18 5 13\n",
    "    TICK\n",
    "    H 2 11 16 25\n",
    "    TICK\n",
    "    X_ERROR(0.05) 2 9 11 13 14 16 18 25\n",
    "    MR 2 9 11 13 14 16 18 25\n",
    "    DETECTOR(0, 4, 0) rec[-4]\n",
    "    DETECTOR(2, 2, 0) rec[-7]\n",
    "    DETECTOR(4, 4, 0) rec[-2]\n",
    "    DETECTOR(6, 2, 0) rec[-5]\n",
    "    X_ERROR(0.05) 1 3 5 8 10 12 15 17 19\n",
    "    M 1 3 5 8 10 12 15 17 19\n",
    "    DETECTOR(0, 4, 1) rec[-3] rec[-6] rec[-13]\n",
    "    DETECTOR(2, 2, 1) rec[-5] rec[-6] rec[-8] rec[-9] rec[-16]\n",
    "    DETECTOR(4, 4, 1) rec[-1] rec[-2] rec[-4] rec[-5] rec[-11]\n",
    "    DETECTOR(6, 2, 1) rec[-4] rec[-7] rec[-14]\n",
    "    OBSERVABLE_INCLUDE(0) rec[-7] rec[-8] rec[-9]\n",
    "''')"
   ]
  },
  {
   "cell_type": "code",
   "execution_count": 7,
   "id": "5712af47-e894-4d06-b65d-5e20193e6dc4",
   "metadata": {},
   "outputs": [
    {
     "name": "stdout",
     "output_type": "stream",
     "text": [
      "<pymatching.Matching object with 8 detectors, 0 boundary nodes, and 11 edges>\n"
     ]
    },
    {
     "data": {
      "image/png": "[encoded data removed]",
      "text/plain": [
       "<Figure size 432x288 with 1 Axes>"
      ]
     },
     "metadata": {},
     "output_type": "display_data"
    }
   ],
   "source": [
    "matching_from_c = Matching.from_stim_circuit(sc_err)\n",
    "matching_from_c.draw()\n",
    "print(matching_from_c)"
   ]
  },
  {
   "cell_type": "code",
   "execution_count": 9,
   "id": "fa64f9a8-d8ff-4ffd-b5c1-e9301f385fbb",
   "metadata": {},
   "outputs": [],
   "source": [
    "d = 3\n",
    "l = 2\n",
    "\n",
    "compass_code = cc.CompassCode(d=d, l=l)\n",
    "H_x, H_z = compass_code.H['X'], compass_code.H['Z']\n",
    "log_x, log_z = compass_code.logicals['X'], compass_code.logicals['Z']"
   ]
  },
  {
   "cell_type": "code",
   "execution_count": 10,
   "id": "2a52ebd9-9de7-40cf-912a-d335f03c2f24",
   "metadata": {},
   "outputs": [
    {
     "name": "stdout",
     "output_type": "stream",
     "text": [
      "{0: [0, 3], 1: [1, 2, 4, 5], 2: [3, 4, 6, 7], 3: [5, 8]}\n",
      "{0: [0, 1, 3, 4], 1: [6, 7], 2: [1, 2], 3: [4, 5, 7, 8]}\n"
     ]
    }
   ],
   "source": [
    "def convert_sparse_to_d(sparse_mat):\n",
    "    rows, cols, values = sparse.find(sparse_mat)\n",
    "    d = {}\n",
    "\n",
    "    for i in range(len(rows)):\n",
    "        plaq = rows[i]\n",
    "        qubit = cols[i]\n",
    "\n",
    "        if plaq not in d:\n",
    "            d[plaq] = [cols[i]]\n",
    "        else:\n",
    "            d[plaq] += [cols[i]]\n",
    "    sorted_d = dict(sorted(zip(d.keys(),d.values())))\n",
    "    return sorted_d\n",
    "\n",
    "d_z = convert_sparse_to_d(H_z)\n",
    "print(d_z)\n",
    "\n",
    "d_x = convert_sparse_to_d(H_x)\n",
    "print(d_x)"
   ]
  },
  {
   "cell_type": "code",
   "execution_count": 11,
   "id": "45fc9a9f-dafc-4881-b98e-f3ea06d87070",
   "metadata": {},
   "outputs": [
    {
     "name": "stdout",
     "output_type": "stream",
     "text": [
      "{0: [0], 1: [0, 2], 2: [2], 3: [0], 4: [0, 3], 5: [3], 6: [1], 7: [1, 3], 8: [3]}\n"
     ]
    }
   ],
   "source": [
    "def qubit_to_plaq_d(H):\n",
    "    rows, cols, values = sparse.find(H)\n",
    "    d = {}\n",
    "    for i in range(len(cols)):\n",
    "        q = cols[i]\n",
    "        plaq = rows[i]\n",
    "\n",
    "        if q not in d:\n",
    "            d[q] = [plaq]\n",
    "        else:\n",
    "            d[q] += [plaq]\n",
    "    return d\n",
    "d = qubit_to_plaq_d(H_x)\n",
    "print(d)"
   ]
  },
  {
   "cell_type": "code",
   "execution_count": 12,
   "id": "8d4c40df-3dd3-4983-9d51-ed3037cf6a2b",
   "metadata": {},
   "outputs": [
    {
     "name": "stdout",
     "output_type": "stream",
     "text": [
      "{0: [(1, 0), (7, 1), (5, 3)], 1: [(0, 0), (6, 1), (4, 3)], 2: [(4, 0), (2, 2), (8, 3)], 3: [(3, 0), (1, 2), (7, 3)]}\n",
      "{0: [(0, 0), (2, 1), (4, 2)], 1: [(3, 0), (5, 1), (7, 2)], 2: [(1, 1), (3, 2), (5, 3)], 3: [(4, 1), (6, 2), (8, 3)]}\n"
     ]
    }
   ],
   "source": [
    "def check_order_d(H, type):\n",
    "    \"\"\" Change this for longer codes\n",
    "        Right now (from STIM ex): \n",
    "         HX: 0 - TR, 1 - TL, 2 - BR, 3 - BL\n",
    "         HZ: 0 - TR, 1 - BR, 2 - TL, 3 - BL\n",
    "    \"\"\"\n",
    "    plaq_d = convert_sparse_to_d(H)\n",
    "    order_d = {0:[], 1:[], 2:[], 3:[]}\n",
    "    d = int(np.sqrt(H.shape[1]))\n",
    "\n",
    "    for plaq in plaq_d:\n",
    "        q_list = plaq_d[plaq] # the list of qubits in the plaquette\n",
    "        if type == \"X\":\n",
    "            if len(q_list) == 2 and max(q_list) <= H.shape[1]//2: # if the two qubit stabilizer is on the top bndry\n",
    "                order_d[2] += [(q_list[1], plaq)]\n",
    "                order_d[3] += [(q_list[0], plaq)]\n",
    "            elif len(q_list) == 2 and max(q_list) >= H.shape[1]//2: # if the two qubit stabilizer is on bottom \n",
    "                order_d[0] += [(q_list[1], plaq)]\n",
    "                order_d[1] += [(q_list[0], plaq)]\n",
    "            else: # length 4 plaquette\n",
    "                order_d[0] += [(q_list[1], plaq)]\n",
    "                order_d[1] += [(q_list[0], plaq)]\n",
    "                order_d[2] += [(q_list[3], plaq)]\n",
    "                order_d[3] += [(q_list[2], plaq)]\n",
    "        if type == \"Z\": \n",
    "            if len(plaq_d[plaq]) == 2 and (q_list[0]-q_list[1])%d == 0 and q_list[0]%d == 0: # if the two qubit stabilizer is on the left bndry\n",
    "                order_d[0] += [(q_list[0], plaq)]\n",
    "                order_d[1] += [(q_list[1], plaq)]\n",
    "            elif len(plaq_d[plaq]) == 2 and (q_list[0]-q_list[1])%d == 0 and q_list[0]%d != 0: # if the two qubit stabilizer is on right bndry \n",
    "                order_d[2] += [(q_list[0], plaq)]\n",
    "                order_d[3] += [(q_list[1], plaq)]\n",
    "            else: # length 4 plaquette\n",
    "                order_d[0] += [(q_list[1], plaq)]\n",
    "                order_d[1] += [(q_list[3], plaq)]\n",
    "                order_d[2] += [(q_list[0], plaq)]\n",
    "                order_d[3] += [(q_list[2], plaq)]\n",
    "                \n",
    "    return order_d\n",
    "\n",
    "order_d_x = check_order_d(H_x, \"X\")\n",
    "print(order_d_x)\n",
    "order_d_z = check_order_d(H_z, \"Z\")\n",
    "print(order_d_z)\n"
   ]
  },
  {
   "cell_type": "code",
   "execution_count": 33,
   "id": "9844ca78-a470-4138-8304-3082b0048d59",
   "metadata": {},
   "outputs": [
    {
     "name": "stdout",
     "output_type": "stream",
     "text": [
      "stim.Circuit('''\n",
      "    R 0 1 2 3 4 5 6 7\n",
      "    H 0 1 2 3\n",
      "    R 8 9 10 11 12 13 14 15 16\n",
      "    CX 0 9 1 15 3 13 8 4 10 5 12 6\n",
      "    TICK\n",
      "    CX 0 8 1 14 3 12 11 4 13 5 15 6\n",
      "    TICK\n",
      "    CX 0 12 2 10 3 16 9 5 11 6 13 7\n",
      "    TICK\n",
      "    CX 0 11 2 9 3 15 12 5 14 6 16 7\n",
      "    TICK\n",
      "    H 0 1 2 3\n",
      "    X_ERROR(0.05) 0 1 2 3 4 5 6 7\n",
      "    MR 0 1 2 3 4 5 6 7\n",
      "    DETECTOR rec[-4]\n",
      "    DETECTOR rec[-3]\n",
      "    DETECTOR rec[-2]\n",
      "    DETECTOR rec[-1]\n",
      "    X_ERROR(0.05) 8 9 10 11 12 13 14 15 16\n",
      "    M 8 9 10 11 12 13 14 15 16\n",
      "    DETECTOR rec[-9] rec[-6] rec[-13]\n",
      "    DETECTOR rec[-8] rec[-7] rec[-5] rec[-4] rec[-12]\n",
      "    DETECTOR rec[-6] rec[-5] rec[-3] rec[-2] rec[-11]\n",
      "    DETECTOR rec[-4] rec[-1] rec[-10]\n",
      "    OBSERVABLE_INCLUDE(0) rec[-9] rec[-8] rec[-7]\n",
      "''')\n"
     ]
    }
   ],
   "source": [
    "def make_circuit_from_parity(H_x, H_z, p_err, type):\n",
    "    \"\"\" \n",
    "    create a surface code memory experiment circuit from a parity check matrix\n",
    "    \"\"\"\n",
    "    \n",
    "    # make the circuit\n",
    "    circuit = stim.Circuit()\n",
    "\n",
    "    # get the qubit ordering\n",
    "    plaq_d_x = convert_sparse_to_d(H_x)\n",
    "    plaq_d_z = convert_sparse_to_d(H_z)\n",
    "    \n",
    "    order_d_x = check_order_d(H_x, \"X\")\n",
    "    order_d_z = check_order_d(H_z, \"Z\")\n",
    "    \n",
    "    qubit_d_x = qubit_to_plaq_d(H_x)\n",
    "    qubit_d_z = qubit_to_plaq_d(H_z)\n",
    "    \n",
    "    # general parameters\n",
    "    num_ancillas = len(plaq_d_x) + len(plaq_d_z)\n",
    "    num_qubits = len(qubit_d_x)\n",
    "    d = int(np.sqrt(num_qubits))\n",
    "    data_q_x_list = [num_ancillas + q for q in list(qubit_d_x.keys())]\n",
    "    data_q_z_list = [num_ancillas + q for q in list(qubit_d_z.keys())]\n",
    "    data_q_list = data_q_x_list\n",
    "\n",
    "    # convention - X plaqs first, then Z plaqs starting with 0\n",
    "    full_plaq_L = range(len(plaq_d_x) + len(plaq_d_z))\n",
    "    \n",
    "    # reset the ancillas\n",
    "    circuit.append(\"R\", full_plaq_L)\n",
    "    circuit.append(\"H\", plaq_d_x)\n",
    "\n",
    "    # reset the qubits\n",
    "    for q in range(len(qubit_d_x)):\n",
    "        if type == \"X\":\n",
    "            circuit.append(\"RX\", q + num_ancillas)\n",
    "        if type == \"Z\":\n",
    "            circuit.append(\"R\", q + num_ancillas)\n",
    " \n",
    "    \n",
    "    for order in order_d_x: # go thru the qubits in order of gates\n",
    "        q_x_list = order_d_x[order] # (qubit, ancilla)\n",
    "        q_z_list = order_d_z[order]\n",
    "        \n",
    "        for q,p in q_x_list:\n",
    "            circuit.append(\"CX\", [p, q + num_ancillas])\n",
    "        \n",
    "        for q,p in q_z_list:\n",
    "            circuit.append(\"CX\", [q + num_ancillas, p + len(plaq_d_x)])\n",
    "        \n",
    "        circuit.append(\"TICK\")\n",
    "    \n",
    "    circuit.append(\"H\", plaq_d_x)\n",
    "    circuit.append(\"X_ERROR\", full_plaq_L, p_err)\n",
    "    circuit.append(\"MR\", full_plaq_L)\n",
    "\n",
    "    # for X mem measure X plaqs\n",
    "    if type == \"X\":\n",
    "        for i in range(len(plaq_d_x)):\n",
    "            circuit.append(\"DETECTOR\", stim.target_rec(-num_ancillas + i))\n",
    "    \n",
    "        circuit.append(\"Z_ERROR\", data_q_list, p_err)\n",
    "        circuit.append(\"MX\", data_q_list)\n",
    "\n",
    "        # time to reconstruct each plaquette\n",
    "        for i in plaq_d_x: \n",
    "            \n",
    "            q_x_list = plaq_d_x[i] # get the qubits in the plaq\n",
    "            anc = i \n",
    "            detector_list =  [-num_qubits + q for q in q_x_list] + [-num_ancillas + anc - num_qubits]\n",
    "            \n",
    "            circuit.append(\"DETECTOR\", [stim.target_rec(d) for d in detector_list])\n",
    "    \n",
    "        # construct the logical observable to include - pick the top line of qubits since this is an X meas\n",
    "        circuit.append(\"OBSERVABLE_INCLUDE\", [stim.target_rec(- num_qubits + d*q) for q in range(d)], 0) # parity of the whole line needs to be the same\n",
    "    \n",
    "    # Z mem measure Z plaqs\n",
    "    if type == \"Z\":\n",
    "        for i in range(len(plaq_d_z)):\n",
    "            circuit.append(\"DETECTOR\", stim.target_rec(-num_ancillas + i + len(plaq_d_x)))\n",
    "    \n",
    "        circuit.append(\"X_ERROR\", data_q_list, p_err)\n",
    "        circuit.append(\"M\", data_q_list)\n",
    "\n",
    "        # time to reconstruct each plaquette\n",
    "        for i in plaq_d_z: \n",
    "            \n",
    "            q_z_list = plaq_d_z[i] # get the qubits in the plaq\n",
    "            anc = i \n",
    "            detector_list =  [-num_qubits + q for q in q_z_list] + [-num_ancillas +len(plaq_d_x)+ anc - num_qubits]\n",
    "            \n",
    "            circuit.append(\"DETECTOR\", [stim.target_rec(d) for d in detector_list])\n",
    "    \n",
    "        # construct the logical observable to include - pick the top line of qubits since this is an X meas\n",
    "        circuit.append(\"OBSERVABLE_INCLUDE\", [stim.target_rec(- num_qubits + q) for q in range(d)], 0)\n",
    "    return circuit\n",
    "            \n",
    "circuit = make_circuit_from_parity(H_x, H_z, 0.05, \"Z\")            \n",
    "print(repr(circuit))   "
   ]
  },
  {
   "cell_type": "code",
   "execution_count": 35,
   "id": "6bbac9f2-255e-47ae-82ad-5a25be7def4a",
   "metadata": {},
   "outputs": [
    {
     "name": "stdout",
     "output_type": "stream",
     "text": [
      "stim.Circuit('''\n",
      "    R 0 1 2 3 4 5 6 7\n",
      "    H 0 1 2 3\n",
      "    R 8 9 10 11 12 13 14 15 16\n",
      "    CX 0 9 1 15 3 13 8 4 10 5 12 6\n",
      "    TICK\n",
      "    CX 0 8 1 14 3 12 11 4 13 5 15 6\n",
      "    TICK\n",
      "    CX 0 12 2 10 3 16 9 5 11 6 13 7\n",
      "    TICK\n",
      "    CX 0 11 2 9 3 15 12 5 14 6 16 7\n",
      "    TICK\n",
      "    H 0 1 2 3\n",
      "    X_ERROR(0.05) 0 1 2 3 4 5 6 7\n",
      "    MR 0 1 2 3 4 5 6 7\n",
      "    DETECTOR rec[-4]\n",
      "    DETECTOR rec[-3]\n",
      "    DETECTOR rec[-2]\n",
      "    DETECTOR rec[-1]\n",
      "    X_ERROR(0.05) 8 9 10 11 12 13 14 15 16\n",
      "    M 8 9 10 11 12 13 14 15 16\n",
      "    DETECTOR rec[-9] rec[-6] rec[-13]\n",
      "    DETECTOR rec[-8] rec[-7] rec[-5] rec[-4] rec[-12]\n",
      "    DETECTOR rec[-6] rec[-5] rec[-3] rec[-2] rec[-11]\n",
      "    DETECTOR rec[-4] rec[-1] rec[-10]\n",
      "    OBSERVABLE_INCLUDE(0) rec[-9] rec[-8] rec[-7]\n",
      "''')\n"
     ]
    }
   ],
   "source": [
    "d = 3\n",
    "l = 2\n",
    "num_shots = 10000\n",
    "\n",
    "compass_code = cc.CompassCode(d=d, l=l)\n",
    "H_x, H_z = compass_code.H['X'], compass_code.H['Z']\n",
    "log_x, log_z = compass_code.logicals['X'], compass_code.logicals['Z']\n",
    "\n",
    "my_c = make_circuit_from_parity(H_x,H_z,0.05, \"Z\")\n",
    "print(repr(my_c))"
   ]
  },
  {
   "cell_type": "code",
   "execution_count": 37,
   "id": "be462b85-d17a-4d71-a4c2-982aa12de707",
   "metadata": {},
   "outputs": [
    {
     "data": {
      "image/png": "[encoded data removed]",
      "text/plain": [
       "<Figure size 432x288 with 1 Axes>"
      ]
     },
     "metadata": {},
     "output_type": "display_data"
    }
   ],
   "source": [
    "matching_p = Matching.from_check_matrix(H_z)\n",
    "matching_p.draw()"
   ]
  },
  {
   "cell_type": "code",
   "execution_count": 38,
   "id": "6a5669ef-39c5-4aa4-8b79-2091e71c411e",
   "metadata": {},
   "outputs": [
    {
     "data": {
      "text/plain": [
       "[(0, 4, {'fault_ids': {0}, 'weight': 1.0, 'error_probability': -1.0}),\n",
       " (1, 4, {'fault_ids': {1}, 'weight': 1.0, 'error_probability': -1.0}),\n",
       " (0, 2, {'fault_ids': {3}, 'weight': 1.0, 'error_probability': -1.0}),\n",
       " (1, 2, {'fault_ids': {4}, 'weight': 1.0, 'error_probability': -1.0}),\n",
       " (1, 3, {'fault_ids': {5}, 'weight': 1.0, 'error_probability': -1.0}),\n",
       " (2, 4, {'fault_ids': {6}, 'weight': 1.0, 'error_probability': -1.0}),\n",
       " (3, 4, {'fault_ids': {8}, 'weight': 1.0, 'error_probability': -1.0})]"
      ]
     },
     "execution_count": 38,
     "metadata": {},
     "output_type": "execute_result"
    }
   ],
   "source": [
    "matching_p.edges()"
   ]
  },
  {
   "cell_type": "code",
   "execution_count": 39,
   "id": "ef413e96-ed9d-4956-8452-3bcef3c906be",
   "metadata": {},
   "outputs": [
    {
     "data": {
      "image/png": "[encoded data removed]",
      "text/plain": [
       "<Figure size 432x288 with 1 Axes>"
      ]
     },
     "metadata": {},
     "output_type": "display_data"
    }
   ],
   "source": [
    "matching_my_c = Matching.from_stim_circuit(my_c)\n",
    "matching_my_c.draw()"
   ]
  },
  {
   "cell_type": "code",
   "execution_count": 40,
   "id": "18e829ad-8191-4327-a36d-323e6c644522",
   "metadata": {},
   "outputs": [
    {
     "data": {
      "text/plain": [
       "[(0,\n",
       "  4,\n",
       "  {'fault_ids': set(),\n",
       "   'weight': 2.9444389791664403,\n",
       "   'error_probability': 0.05}),\n",
       " (1,\n",
       "  5,\n",
       "  {'fault_ids': set(),\n",
       "   'weight': 2.9444389791664403,\n",
       "   'error_probability': 0.05}),\n",
       " (2,\n",
       "  6,\n",
       "  {'fault_ids': set(),\n",
       "   'weight': 2.9444389791664403,\n",
       "   'error_probability': 0.05}),\n",
       " (3,\n",
       "  7,\n",
       "  {'fault_ids': set(),\n",
       "   'weight': 2.9444389791664403,\n",
       "   'error_probability': 0.05}),\n",
       " (4,\n",
       "  6,\n",
       "  {'fault_ids': set(),\n",
       "   'weight': 2.9444389791664403,\n",
       "   'error_probability': 0.05}),\n",
       " (4,\n",
       "  None,\n",
       "  {'fault_ids': {0}, 'weight': 2.9444389791664403, 'error_probability': 0.05}),\n",
       " (5,\n",
       "  6,\n",
       "  {'fault_ids': set(),\n",
       "   'weight': 2.9444389791664403,\n",
       "   'error_probability': 0.05}),\n",
       " (5,\n",
       "  7,\n",
       "  {'fault_ids': set(),\n",
       "   'weight': 2.9444389791664403,\n",
       "   'error_probability': 0.05}),\n",
       " (5,\n",
       "  None,\n",
       "  {'fault_ids': {0},\n",
       "   'weight': 2.2540580520993854,\n",
       "   'error_probability': 0.095}),\n",
       " (6,\n",
       "  None,\n",
       "  {'fault_ids': set(),\n",
       "   'weight': 2.2540580520993854,\n",
       "   'error_probability': 0.095}),\n",
       " (7,\n",
       "  None,\n",
       "  {'fault_ids': set(),\n",
       "   'weight': 2.9444389791664403,\n",
       "   'error_probability': 0.05})]"
      ]
     },
     "execution_count": 40,
     "metadata": {},
     "output_type": "execute_result"
    }
   ],
   "source": [
    "matching_my_c.edges()"
   ]
  },
  {
   "cell_type": "code",
   "execution_count": 41,
   "id": "934d22de-a606-4220-9509-2045d1e36dec",
   "metadata": {},
   "outputs": [
    {
     "data": {
      "image/png": "[encoded data removed]",
      "text/plain": [
       "<Figure size 432x288 with 1 Axes>"
      ]
     },
     "metadata": {},
     "output_type": "display_data"
    }
   ],
   "source": [
    "matching_sc = Matching.from_stim_circuit(sc_err)\n",
    "matching_sc.draw()"
   ]
  },
  {
   "cell_type": "code",
   "execution_count": 42,
   "id": "1aed3d0c-22ea-4381-a052-e750063c7fd6",
   "metadata": {},
   "outputs": [
    {
     "data": {
      "text/plain": [
       "[(0,\n",
       "  4,\n",
       "  {'fault_ids': set(),\n",
       "   'weight': 2.9444389791664403,\n",
       "   'error_probability': 0.05}),\n",
       " (1,\n",
       "  5,\n",
       "  {'fault_ids': set(),\n",
       "   'weight': 2.9444389791664403,\n",
       "   'error_probability': 0.05}),\n",
       " (2,\n",
       "  6,\n",
       "  {'fault_ids': set(),\n",
       "   'weight': 2.9444389791664403,\n",
       "   'error_probability': 0.05}),\n",
       " (3,\n",
       "  7,\n",
       "  {'fault_ids': set(),\n",
       "   'weight': 2.9444389791664403,\n",
       "   'error_probability': 0.05}),\n",
       " (4,\n",
       "  6,\n",
       "  {'fault_ids': set(),\n",
       "   'weight': 2.9444389791664403,\n",
       "   'error_probability': 0.05}),\n",
       " (4,\n",
       "  None,\n",
       "  {'fault_ids': {0}, 'weight': 2.9444389791664403, 'error_probability': 0.05}),\n",
       " (5,\n",
       "  6,\n",
       "  {'fault_ids': set(),\n",
       "   'weight': 2.9444389791664403,\n",
       "   'error_probability': 0.05}),\n",
       " (5,\n",
       "  7,\n",
       "  {'fault_ids': set(),\n",
       "   'weight': 2.9444389791664403,\n",
       "   'error_probability': 0.05}),\n",
       " (5,\n",
       "  None,\n",
       "  {'fault_ids': {0},\n",
       "   'weight': 2.2540580520993854,\n",
       "   'error_probability': 0.095}),\n",
       " (6,\n",
       "  None,\n",
       "  {'fault_ids': set(),\n",
       "   'weight': 2.2540580520993854,\n",
       "   'error_probability': 0.095}),\n",
       " (7,\n",
       "  None,\n",
       "  {'fault_ids': set(),\n",
       "   'weight': 2.9444389791664403,\n",
       "   'error_probability': 0.05})]"
      ]
     },
     "execution_count": 42,
     "metadata": {},
     "output_type": "execute_result"
    }
   ],
   "source": [
    "matching_sc.edges()"
   ]
  },
  {
   "cell_type": "code",
   "execution_count": 43,
   "id": "35fae432-3afb-4c3f-8ea9-1a38d4540995",
   "metadata": {},
   "outputs": [
    {
     "name": "stdout",
     "output_type": "stream",
     "text": [
      "stim.DetectorErrorModel('''\n",
      "    error(0.05) D0 D4\n",
      "    error(0.05) D1 D5\n",
      "    error(0.05) D2 D6\n",
      "    error(0.05) D3 D7\n",
      "    error(0.05) D4 D6\n",
      "    error(0.05) D4 L0\n",
      "    error(0.05) D5 D6\n",
      "    error(0.05) D5 D7\n",
      "    error(0.095) D5 L0\n",
      "    error(0.095) D6\n",
      "    error(0.05) D7\n",
      "''')\n"
     ]
    }
   ],
   "source": [
    "dem = my_c.detector_error_model()\n",
    "print(repr(dem))"
   ]
  },
  {
   "cell_type": "code",
   "execution_count": 44,
   "id": "08928175-10fc-4526-83b6-9972965567fc",
   "metadata": {},
   "outputs": [
    {
     "data": {
      "image/svg+xml": [
       "<svg viewBox=\"0 0 131.603 84.7214\"  version=\"1.1\" xmlns=\"http://www.w3.org/2000/svg\">\n",
       "<path d=\"M40,49.7214 L55,64.7214 M55,49.7214 L70,49.7214 M40,64.7214 L85,49.7214 M40,79.7214 L70,64.7214 M55,64.7214 L85,49.7214 M70,49.7214 L85,49.7214 M70,49.7214 L70,64.7214 M85,49.7214 L126.603,21.9863 M70,64.7214 L120,64.7214\" stroke=\"black\" fill=\"none\" stroke-width=\"0.2\"/>\n",
       "<path d=\"M55,64.7214 L5,64.7214 M70,49.7214 L92.3607,5\" stroke=\"red\" fill=\"none\" stroke-width=\"0.2\"/>\n",
       "<circle cx=\"40\" cy=\"49.7214\" r=\"0.5\" stroke=\"none\" fill=\"black\"/>\n",
       "<circle cx=\"55\" cy=\"49.7214\" r=\"0.5\" stroke=\"none\" fill=\"black\"/>\n",
       "<circle cx=\"40\" cy=\"64.7214\" r=\"0.5\" stroke=\"none\" fill=\"black\"/>\n",
       "<circle cx=\"40\" cy=\"79.7214\" r=\"0.5\" stroke=\"none\" fill=\"black\"/>\n",
       "<circle cx=\"55\" cy=\"64.7214\" r=\"0.5\" stroke=\"none\" fill=\"black\"/>\n",
       "<circle cx=\"70\" cy=\"49.7214\" r=\"0.5\" stroke=\"none\" fill=\"black\"/>\n",
       "<circle cx=\"85\" cy=\"49.7214\" r=\"0.5\" stroke=\"none\" fill=\"black\"/>\n",
       "<circle cx=\"70\" cy=\"64.7214\" r=\"0.5\" stroke=\"none\" fill=\"black\"/>\n",
       "</svg>"
      ],
      "text/plain": [
       "<svg viewBox=\"0 0 131.603 84.7214\"  version=\"1.1\" xmlns=\"http://www.w3.org/2000/svg\">\n",
       "<path d=\"M40,49.7214 L55,64.7214 M55,49.7214 L70,49.7214 M40,64.7214 L85,49.7214 M40,79.7214 L70,64.7214 M55,64.7214 L85,49.7214 M70,49.7214 L85,49.7214 M70,49.7214 L70,64.7214 M85,49.7214 L126.603,21.9863 M70,64.7214 L120,64.7214\" stroke=\"black\" fill=\"none\" stroke-width=\"0.2\"/>\n",
       "<path d=\"M55,64.7214 L5,64.7214 M70,49.7214 L92.3607,5\" stroke=\"red\" fill=\"none\" stroke-width=\"0.2\"/>\n",
       "<circle cx=\"40\" cy=\"49.7214\" r=\"0.5\" stroke=\"none\" fill=\"black\"/>\n",
       "<circle cx=\"55\" cy=\"49.7214\" r=\"0.5\" stroke=\"none\" fill=\"black\"/>\n",
       "<circle cx=\"40\" cy=\"64.7214\" r=\"0.5\" stroke=\"none\" fill=\"black\"/>\n",
       "<circle cx=\"40\" cy=\"79.7214\" r=\"0.5\" stroke=\"none\" fill=\"black\"/>\n",
       "<circle cx=\"55\" cy=\"64.7214\" r=\"0.5\" stroke=\"none\" fill=\"black\"/>\n",
       "<circle cx=\"70\" cy=\"49.7214\" r=\"0.5\" stroke=\"none\" fill=\"black\"/>\n",
       "<circle cx=\"85\" cy=\"49.7214\" r=\"0.5\" stroke=\"none\" fill=\"black\"/>\n",
       "<circle cx=\"70\" cy=\"64.7214\" r=\"0.5\" stroke=\"none\" fill=\"black\"/>\n",
       "</svg>"
      ]
     },
     "execution_count": 44,
     "metadata": {},
     "output_type": "execute_result"
    }
   ],
   "source": [
    "dem.diagram(\"matchgraph-svg\")"
   ]
  },
  {
   "cell_type": "code",
   "execution_count": 45,
   "id": "49c0bbcf-c017-4321-b3c0-2e63265d8771",
   "metadata": {},
   "outputs": [
    {
     "name": "stdout",
     "output_type": "stream",
     "text": [
      "stim.DetectorErrorModel('''\n",
      "    error(0.05) D0 D4\n",
      "    error(0.05) D1 D5\n",
      "    error(0.05) D2 D6\n",
      "    error(0.05) D3 D7\n",
      "    error(0.05) D4 D6\n",
      "    error(0.05) D4 L0\n",
      "    error(0.05) D5 D6\n",
      "    error(0.05) D5 D7\n",
      "    error(0.095) D5 L0\n",
      "    error(0.095) D6\n",
      "    error(0.05) D7\n",
      "    detector(2, 0, 0) D0\n",
      "    detector(2, 4, 0) D1\n",
      "    detector(4, 2, 0) D2\n",
      "    detector(4, 6, 0) D3\n",
      "    detector(2, 0, 1) D4\n",
      "    detector(2, 4, 1) D5\n",
      "    detector(4, 2, 1) D6\n",
      "    detector(4, 6, 1) D7\n",
      "''')\n"
     ]
    }
   ],
   "source": [
    "dem_stim = sc_err.detector_error_model()\n",
    "print(repr(dem_stim))"
   ]
  },
  {
   "cell_type": "code",
   "execution_count": 46,
   "id": "c4f85381-efc2-4a80-af28-495f296e2486",
   "metadata": {},
   "outputs": [
    {
     "data": {
      "image/svg+xml": [
       "<svg viewBox=\"0 0 106.667 193.704\"  version=\"1.1\" xmlns=\"http://www.w3.org/2000/svg\">\n",
       "<path d=\"M37.0667,51.396 L37.6667,51.696 M37.0667,111.396 L37.6667,111.696 M67.0667,81.396 L67.6667,81.696 M67.0667,141.396 L67.6667,141.696 M37.6667,51.696 L67.6667,81.696 M37.6667,111.696 L67.6667,81.696 M37.6667,111.696 L67.6667,141.696 M67.6667,81.696 L101.667,48.696 M67.6667,141.696 L83.5964,188.704\" stroke=\"black\" fill=\"none\" stroke-width=\"0.2\"/>\n",
       "<path d=\"M37.6667,51.696 L22.3616,5 M37.6667,111.696 L5,145.363\" stroke=\"red\" fill=\"none\" stroke-width=\"0.2\"/>\n",
       "<circle cx=\"37.0667\" cy=\"51.396\" r=\"0.5\" stroke=\"none\" fill=\"black\"/>\n",
       "<circle cx=\"37.0667\" cy=\"111.396\" r=\"0.5\" stroke=\"none\" fill=\"black\"/>\n",
       "<circle cx=\"67.0667\" cy=\"81.396\" r=\"0.5\" stroke=\"none\" fill=\"black\"/>\n",
       "<circle cx=\"67.0667\" cy=\"141.396\" r=\"0.5\" stroke=\"none\" fill=\"black\"/>\n",
       "<circle cx=\"37.6667\" cy=\"51.696\" r=\"0.5\" stroke=\"none\" fill=\"black\"/>\n",
       "<circle cx=\"37.6667\" cy=\"111.696\" r=\"0.5\" stroke=\"none\" fill=\"black\"/>\n",
       "<circle cx=\"67.6667\" cy=\"81.696\" r=\"0.5\" stroke=\"none\" fill=\"black\"/>\n",
       "<circle cx=\"67.6667\" cy=\"141.696\" r=\"0.5\" stroke=\"none\" fill=\"black\"/>\n",
       "</svg>"
      ],
      "text/plain": [
       "<svg viewBox=\"0 0 106.667 193.704\"  version=\"1.1\" xmlns=\"http://www.w3.org/2000/svg\">\n",
       "<path d=\"M37.0667,51.396 L37.6667,51.696 M37.0667,111.396 L37.6667,111.696 M67.0667,81.396 L67.6667,81.696 M67.0667,141.396 L67.6667,141.696 M37.6667,51.696 L67.6667,81.696 M37.6667,111.696 L67.6667,81.696 M37.6667,111.696 L67.6667,141.696 M67.6667,81.696 L101.667,48.696 M67.6667,141.696 L83.5964,188.704\" stroke=\"black\" fill=\"none\" stroke-width=\"0.2\"/>\n",
       "<path d=\"M37.6667,51.696 L22.3616,5 M37.6667,111.696 L5,145.363\" stroke=\"red\" fill=\"none\" stroke-width=\"0.2\"/>\n",
       "<circle cx=\"37.0667\" cy=\"51.396\" r=\"0.5\" stroke=\"none\" fill=\"black\"/>\n",
       "<circle cx=\"37.0667\" cy=\"111.396\" r=\"0.5\" stroke=\"none\" fill=\"black\"/>\n",
       "<circle cx=\"67.0667\" cy=\"81.396\" r=\"0.5\" stroke=\"none\" fill=\"black\"/>\n",
       "<circle cx=\"67.0667\" cy=\"141.396\" r=\"0.5\" stroke=\"none\" fill=\"black\"/>\n",
       "<circle cx=\"37.6667\" cy=\"51.696\" r=\"0.5\" stroke=\"none\" fill=\"black\"/>\n",
       "<circle cx=\"37.6667\" cy=\"111.696\" r=\"0.5\" stroke=\"none\" fill=\"black\"/>\n",
       "<circle cx=\"67.6667\" cy=\"81.696\" r=\"0.5\" stroke=\"none\" fill=\"black\"/>\n",
       "<circle cx=\"67.6667\" cy=\"141.696\" r=\"0.5\" stroke=\"none\" fill=\"black\"/>\n",
       "</svg>"
      ]
     },
     "execution_count": 46,
     "metadata": {},
     "output_type": "execute_result"
    }
   ],
   "source": [
    "dem_stim.diagram(\"matchgraph-svg\")"
   ]
  },
  {
   "cell_type": "code",
   "execution_count": null,
   "id": "43571044-9ba2-4061-adb3-4ca0a8b5f6b2",
   "metadata": {},
   "outputs": [],
   "source": []
  },
  {
   "cell_type": "code",
   "execution_count": 47,
   "id": "b6c2bf95-1320-4180-a610-e7dbdf59c94c",
   "metadata": {},
   "outputs": [
    {
     "name": "stdout",
     "output_type": "stream",
     "text": [
      "for my circuit 397\n",
      "for stim built in circuit 344\n"
     ]
    }
   ],
   "source": [
    "def get_num_log_errors(circuit, matching, num_shots):\n",
    "    sampler = circuit.compile_detector_sampler()\n",
    "    detection_events, observable_flips = sampler.sample(num_shots, separate_observables=True)\n",
    "    predictions = matching.decode_batch(detection_events)\n",
    "    \n",
    "    \n",
    "    num_errors = 0\n",
    "    for shot in range(num_shots):\n",
    "        actual_for_shot = observable_flips[shot]\n",
    "        predicted_for_shot = predictions[shot]\n",
    "        if not np.array_equal(actual_for_shot, predicted_for_shot):\n",
    "            num_errors += 1\n",
    "    return num_errors\n",
    "\n",
    "num_errors = get_num_log_errors(my_c, matching_my_c, num_shots)\n",
    "num_errors_stim = get_num_log_errors(sc_err, matching_from_c, num_shots)\n",
    "print(\"for my circuit\", num_errors)\n",
    "print(\"for stim built in circuit\", num_errors_stim)"
   ]
  },
  {
   "cell_type": "code",
   "execution_count": 51,
   "id": "90341301-40ae-4951-b3ba-ff3b50a46f98",
   "metadata": {},
   "outputs": [],
   "source": [
    "def get_log_error_p(p_list, H_x,H_z, num_shots):\n",
    "    log_error_L = []\n",
    "    for p in p_list:\n",
    "        circuit = make_circuit_from_parity(H_x,H_z, p, type)\n",
    "        matching = Matching.from_stim_circuit(circuit)\n",
    "        \n",
    "        log_errors = get_num_log_errors(circuit, matching, num_shots)\n",
    "        log_error_L += [log_errors/num_shots]\n",
    "    return log_error_L\n",
    "    "
   ]
  },
  {
   "cell_type": "code",
   "execution_count": 63,
   "id": "2ed4d753-5549-4495-a3dd-8f73b5516007",
   "metadata": {},
   "outputs": [],
   "source": [
    "p_list = np.linspace(0,0.5, 50)\n",
    "d_dict = {3:[], 5:[], 7:[]}\n",
    "num_shots = 100000\n",
    "l = 2\n",
    "type_d = {0:\"X\", 1:\"Z\"}\n",
    "type=type_d[0]\n",
    "\n",
    "\n",
    "for d in list(d_dict.keys()):\n",
    "    compass_code = cc.CompassCode(d=d, l=l)\n",
    "    H_x, H_z = compass_code.H['X'], compass_code.H['Z']\n",
    "    log_x, log_z = compass_code.logicals['X'], compass_code.logicals['Z']\n",
    "\n",
    "    \n",
    "    d_dict[d] = get_log_error_p(p_list, H_x,H_z, num_shots)"
   ]
  },
  {
   "cell_type": "code",
   "execution_count": 64,
   "id": "60f6519d-d866-4278-874b-05d3f6a5c2e1",
   "metadata": {},
   "outputs": [
    {
     "data": {
      "image/png": "[encoded data removed]",
      "text/plain": [
       "<Figure size 432x288 with 1 Axes>"
      ]
     },
     "metadata": {
      "needs_background": "light"
     },
     "output_type": "display_data"
    }
   ],
   "source": [
    "for d in d_dict:\n",
    "    plt.plot(p_list, d_dict[d], label=f\"d={d}\")\n",
    "plt.xlabel(\"p\")\n",
    "plt.ylabel(f\"{[v for k, v in type_d.items() if v != type][0]} Logical Errors \")\n",
    "plt.legend()\n",
    "plt.show()"
   ]
  },
  {
   "cell_type": "code",
   "execution_count": 277,
   "id": "4343e8f5-24d0-47e8-b704-540b3070e590",
   "metadata": {},
   "outputs": [
    {
     "data": {
      "image/png": "[encoded data removed]",
      "text/plain": [
       "<Figure size 432x288 with 1 Axes>"
      ]
     },
     "metadata": {
      "needs_background": "light"
     },
     "output_type": "display_data"
    }
   ],
   "source": [
    "log_error_L = []\n",
    "for p in p_list:\n",
    "    sc_circuit = surface_code_circuit = stim.Circuit.generated(\"surface_code:rotated_memory_x\",rounds=1, distance=3, before_measure_flip_probability=p)\n",
    "    log_errors = get_num_log_errors(sc_circuit, matching_from_c, num_shots)\n",
    "    log_error_L += [log_errors/num_shots]\n",
    "\n",
    "plt.plot(p_list, log_error_L)\n",
    "plt.show()\n"
   ]
  },
  {
   "cell_type": "code",
   "execution_count": null,
   "id": "647af5e2-f4de-4c5b-b7cf-180519077f3a",
   "metadata": {},
   "outputs": [],
   "source": []
  }
 ],
 "metadata": {
  "kernelspec": {
   "display_name": "Python 3",
   "language": "python",
   "name": "python3"
  },
  "language_info": {
   "codemirror_mode": {
    "name": "ipython",
    "version": 3
   },
   "file_extension": ".py",
   "mimetype": "text/x-python",
   "name": "python",
   "nbconvert_exporter": "python",
   "pygments_lexer": "ipython3",
   "version": "3.8.19"
  }
 },
 "nbformat": 4,
 "nbformat_minor": 5
}
